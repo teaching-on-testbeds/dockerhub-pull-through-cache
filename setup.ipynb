{
 "cells": [
  {
   "cell_type": "markdown",
   "id": "8799bd8e",
   "metadata": {},
   "source": [
    "## Set up a Dockerhub pull through cache"
   ]
  },
  {
   "cell_type": "markdown",
   "id": "de3ce1c3",
   "metadata": {},
   "source": [
    "This notebook sets up a KVM instance as a DockerHub pull-through cache for use in experiments where you may have to repeatedly pull the same images from DockerHub. For example:\n",
    "\n",
    "* Installing Kubernetes in a large cluster (each node will independently pull the same images from DockerHub)\n",
    "* Running a Docker-based assignment in a classroom setting (each student will independently execute the experiment, pulling the same images from DockerHub)\n",
    "\n",
    "Under these circumstances, a pull-through cache helps by:\n",
    "\n",
    "* Preventing you from exceeding DockerHub's rate limit for `docker pull` operations (note that all hosts in `sharednet1` count as one address toward this rate limit, unless they have their own public IPs)\n",
    "* and speeding up `docker pull` operations by keeping a local cache of images."
   ]
  },
  {
   "cell_type": "code",
   "execution_count": null,
   "id": "f6c1786e",
   "metadata": {
    "vscode": {
     "languageId": "plaintext"
    }
   },
   "outputs": [],
   "source": [
    "import chi, os, time, datetime\n",
    "from chi import lease\n",
    "from chi import server\n",
    "from chi import context\n",
    "from chi import hardware\n",
    "from chi import network\n",
    "\n",
    "context.version = \"1.0\" \n",
    "context.choose_project()\n",
    "context.choose_site(default=\"KVM@TACC\")\n"
   ]
  },
  {
   "cell_type": "code",
   "execution_count": null,
   "id": "31a266b4",
   "metadata": {
    "vscode": {
     "languageId": "plaintext"
    }
   },
   "outputs": [],
   "source": [
    "exp_name = \"docker_cache\"\n",
    "server_name = f\"{exp_name}\"\n",
    "lease_name = f\"{exp_name}\"\n"
   ]
  },
  {
   "cell_type": "markdown",
   "id": "e4d3ce8a",
   "metadata": {},
   "source": [
    "#### Reserve and launch a VM instance"
   ]
  },
  {
   "cell_type": "markdown",
   "id": "2384c11e",
   "metadata": {},
   "source": [
    "Adjust the duration of your lease as needed:"
   ]
  },
  {
   "cell_type": "code",
   "execution_count": null,
   "id": "3d2bb69a",
   "metadata": {
    "vscode": {
     "languageId": "plaintext"
    }
   },
   "outputs": [],
   "source": [
    "l = lease.Lease(lease_name, duration=datetime.timedelta(weeks=18))\n",
    "l.add_flavor_reservation(id=chi.server.get_flavor_id(\"m1.large\"), amount=1)\n",
    "l.submit(idempotent=True)\n"
   ]
  },
  {
   "cell_type": "code",
   "execution_count": null,
   "id": "0bdcbe92",
   "metadata": {
    "vscode": {
     "languageId": "plaintext"
    }
   },
   "outputs": [],
   "source": [
    "l.show()\n"
   ]
  },
  {
   "cell_type": "code",
   "execution_count": null,
   "id": "6ad61ec4",
   "metadata": {
    "vscode": {
     "languageId": "plaintext"
    }
   },
   "outputs": [],
   "source": [
    "image_name = \"CC-Ubuntu24.04\"\n",
    "s = server.Server(\n",
    "    name=server_name,\n",
    "    image_name=image_name,\n",
    "    flavor_name=l.get_reserved_flavors()[0].name\n",
    ")\n",
    "s.submit(idempotent=True)\n"
   ]
  },
  {
   "cell_type": "markdown",
   "id": "84bc4965",
   "metadata": {},
   "source": [
    "#### Set up network connectivity for instance"
   ]
  },
  {
   "cell_type": "code",
   "execution_count": null,
   "id": "375d7fa3",
   "metadata": {
    "vscode": {
     "languageId": "plaintext"
    }
   },
   "outputs": [],
   "source": [
    "s.associate_floating_ip()\n"
   ]
  },
  {
   "cell_type": "code",
   "execution_count": null,
   "id": "d4158641",
   "metadata": {
    "vscode": {
     "languageId": "plaintext"
    }
   },
   "outputs": [],
   "source": [
    "security_groups = [\n",
    "  {'name': \"allow-ssh\", 'port': 22, 'description': \"Enable SSH traffic on TCP port 22\"},\n",
    "  {'name': \"allow-5000\", 'port': 5000, 'description': \"Enable TCP port 5000 (used by Docker image registry)\"}\n",
    "]"
   ]
  },
  {
   "cell_type": "code",
   "execution_count": null,
   "id": "92a7c977",
   "metadata": {
    "vscode": {
     "languageId": "plaintext"
    }
   },
   "outputs": [],
   "source": [
    "for sg_def in security_groups:\n",
    "\n",
    "    sg_list = network.list_security_groups(name_filter=sg_def[\"name\"])\n",
    "    if sg_list: # already exists, get ID of first matching entry\n",
    "        sg = sg_list[0]\n",
    "    else:       # create new security group\n",
    "        sg = network.SecurityGroup({\"name\": sg_def[\"name\"], \"description\": sg_def[\"description\"]})\n",
    "        sg.add_rule(\"ingress\", \"tcp\", sg_def[\"port\"])\n",
    "        sg.submit()\n",
    "    try:\n",
    "        s.add_security_group(sg.id)\n",
    "    except:     # server may already have this security group - that's OK\n",
    "        pass"
   ]
  },
  {
   "cell_type": "code",
   "execution_count": null,
   "id": "eabdc9a1",
   "metadata": {
    "vscode": {
     "languageId": "plaintext"
    }
   },
   "outputs": [],
   "source": [
    "s.refresh()\n",
    "s.check_connectivity()\n"
   ]
  },
  {
   "cell_type": "markdown",
   "id": "bd5a6f96",
   "metadata": {},
   "source": [
    "#### Set up Docker"
   ]
  },
  {
   "cell_type": "code",
   "execution_count": null,
   "id": "ea39adc1",
   "metadata": {
    "vscode": {
     "languageId": "plaintext"
    }
   },
   "outputs": [],
   "source": [
    "s.execute(\"curl -sSL https://get.docker.com/ | sudo sh\")\n",
    "s.execute(\"sudo groupadd -f docker; sudo usermod -aG docker $USER\")\n"
   ]
  },
  {
   "cell_type": "markdown",
   "id": "4e52100c",
   "metadata": {},
   "source": [
    "#### Set up pull-through cache"
   ]
  },
  {
   "cell_type": "code",
   "execution_count": null,
   "id": "abd3eb37",
   "metadata": {
    "vscode": {
     "languageId": "plaintext"
    }
   },
   "outputs": [],
   "source": [
    "s.execute(\"git clone https://github.com/teaching-on-testbeds/dockerhub-pull-through-cache\")\n"
   ]
  },
  {
   "cell_type": "code",
   "execution_count": null,
   "id": "dacdba18",
   "metadata": {
    "vscode": {
     "languageId": "plaintext"
    }
   },
   "outputs": [],
   "source": [
    "s.execute(\"docker compose -f ~/dockerhub-pull-through-cache/docker-compose-registry.yaml up -d\")"
   ]
  },
  {
   "cell_type": "markdown",
   "id": "e28edbb9",
   "metadata": {},
   "source": [
    "#### Get address of pull-through cache"
   ]
  },
  {
   "cell_type": "code",
   "execution_count": null,
   "id": "b9443f16",
   "metadata": {
    "vscode": {
     "languageId": "plaintext"
    }
   },
   "outputs": [],
   "source": [
    "host = f\"kvm-dyn-{s.get_floating_ip().replace('.', '-')}.tacc.chameleoncloud.org\"\n",
    "print(host)"
   ]
  },
  {
   "cell_type": "markdown",
   "id": "8c51c76a",
   "metadata": {},
   "source": [
    "Use this address in a `daemon.json` file for a Docker service to use the pull-through cache. For example:"
   ]
  },
  {
   "cell_type": "code",
   "execution_count": null,
   "id": "e7eebfb2",
   "metadata": {
    "vscode": {
     "languageId": "plaintext"
    }
   },
   "outputs": [],
   "source": [
    "import json\n",
    "config = {\n",
    "    \"registry-mirrors\": [f\"http://{host}:5000\"],\n",
    "    \"insecure-registries\": [f\"{host}:5000\"]\n",
    "}\n",
    "print(json.dumps(config, indent=1, separators=(\",\", \":\")))"
   ]
  }
 ],
 "metadata": {
  "language_info": {
   "name": "python"
  }
 },
 "nbformat": 4,
 "nbformat_minor": 5
}
